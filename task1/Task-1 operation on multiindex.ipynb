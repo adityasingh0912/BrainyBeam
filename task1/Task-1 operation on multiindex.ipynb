{
 "cells": [
  {
   "cell_type": "markdown",
   "id": "46a210d8",
   "metadata": {},
   "source": [
    "# Step 1: Load and Prepare Data"
   ]
  },
  {
   "cell_type": "code",
   "execution_count": 1,
   "id": "9ae69e45",
   "metadata": {},
   "outputs": [
    {
     "name": "stdout",
     "output_type": "stream",
     "text": [
      "\n",
      "Data after handling NaN values:\n",
      "                                                               Item_Type  \\\n",
      "Region                            Country                                  \n",
      "Australia and Oceania             Tuvalu                       Baby Food   \n",
      "Central America and the Caribbean Grenada                         Cereal   \n",
      "Europe                            Russia                 Office Supplies   \n",
      "Sub_Saharan Africa                Sao Tome and Principe           Fruits   \n",
      "                                  Rwanda                 Office Supplies   \n",
      "\n",
      "                                                        Sales_Channel  \\\n",
      "Region                            Country                               \n",
      "Australia and Oceania             Tuvalu                      Offline   \n",
      "Central America and the Caribbean Grenada                      Online   \n",
      "Europe                            Russia                      Offline   \n",
      "Sub_Saharan Africa                Sao Tome and Principe        Online   \n",
      "                                  Rwanda                      Offline   \n",
      "\n",
      "                                                        Order_Priority  \\\n",
      "Region                            Country                                \n",
      "Australia and Oceania             Tuvalu                             H   \n",
      "Central America and the Caribbean Grenada                            C   \n",
      "Europe                            Russia                             L   \n",
      "Sub_Saharan Africa                Sao Tome and Principe              C   \n",
      "                                  Rwanda                             L   \n",
      "\n",
      "                                                          Ship_Date  \\\n",
      "Region                            Country                             \n",
      "Australia and Oceania             Tuvalu                 27/06/2010   \n",
      "Central America and the Caribbean Grenada                15/09/2012   \n",
      "Europe                            Russia                 05/08/2014   \n",
      "Sub_Saharan Africa                Sao Tome and Principe  07/05/2014   \n",
      "                                  Rwanda                 02/06/2013   \n",
      "\n",
      "                                                         Unit_Cost  \\\n",
      "Region                            Country                            \n",
      "Australia and Oceania             Tuvalu                    159.42   \n",
      "Central America and the Caribbean Grenada                   117.11   \n",
      "Europe                            Russia                    524.96   \n",
      "Sub_Saharan Africa                Sao Tome and Principe       6.92   \n",
      "                                  Rwanda                    524.96   \n",
      "\n",
      "                                                         Total_Revenue  \\\n",
      "Region                            Country                                \n",
      "Australia and Oceania             Tuvalu                    2533654.00   \n",
      "Central America and the Caribbean Grenada                    576782.80   \n",
      "Europe                            Russia                    1158502.59   \n",
      "Sub_Saharan Africa                Sao Tome and Principe       75591.66   \n",
      "                                  Rwanda                    3296425.02   \n",
      "\n",
      "                                                         Total_Profit  \n",
      "Region                            Country                              \n",
      "Australia and Oceania             Tuvalu                    951410.50  \n",
      "Central America and the Caribbean Grenada                   248406.36  \n",
      "Europe                            Russia                    224598.75  \n",
      "Sub_Saharan Africa                Sao Tome and Principe      19525.82  \n",
      "                                  Rwanda                    639077.50  \n"
     ]
    }
   ],
   "source": [
    "import pandas as pd\n",
    "\n",
    "# Load the CSV file\n",
    "file_path = \"100_Sales.csv\"  # Ensure the file is in the same directory\n",
    "sales_data = pd.read_csv(file_path)\n",
    "\n",
    "# Drop irrelevant columns (if they exist)\n",
    "sales_data = sales_data.drop(columns=['Unnamed: 9', 'Unnamed: 10'], errors='ignore')\n",
    "\n",
    "# Set a Multi-Index\n",
    "multi = sales_data.set_index(['Region', 'Country'])\n",
    "\n",
    "# Handle NaN values (Fill NaN with median for numerical columns)\n",
    "multi = multi.fillna(multi.median(numeric_only=True))\n",
    "\n",
    "# Display the data to verify\n",
    "print(\"\\nData after handling NaN values:\")\n",
    "print(multi.head())\n"
   ]
  },
  {
   "cell_type": "markdown",
   "id": "4cd445ee",
   "metadata": {},
   "source": [
    "# Step 2: Filtering Data"
   ]
  },
  {
   "cell_type": "code",
   "execution_count": 2,
   "id": "6f2f225b",
   "metadata": {},
   "outputs": [
    {
     "name": "stdout",
     "output_type": "stream",
     "text": [
      "\n",
      "Filtered Data (Europe):\n",
      "                Item_Type Sales_Channel Order_Priority   Ship_Date  Unit_Cost  \\\n",
      "Country                                                                         \n",
      "Russia    Office Supplies       Offline              L  05/08/2014     524.96   \n",
      "Bulgaria          Clothes        Online              M  06/03/2012      35.84   \n",
      "Norway          Baby Food        Online              L  28/06/2014     159.42   \n",
      "Portugal        Baby Food        Online              H  09/03/2015     159.42   \n",
      "Moldova     Personal Care        Online              L  05/10/2016      56.67   \n",
      "\n",
      "          Total_Revenue  Total_Profit  \n",
      "Country                                \n",
      "Russia       1158502.59     224598.75  \n",
      "Bulgaria      182825.44     122865.12  \n",
      "Norway       1901836.00     714157.00  \n",
      "Portugal      324971.44     122029.78  \n",
      "Moldova       414371.10     127054.20  \n"
     ]
    }
   ],
   "source": [
    "# Filter data for 'Europe' region\n",
    "filtered_data = multi.xs('Europe', level='Region')\n",
    "\n",
    "print(\"\\nFiltered Data (Europe):\")\n",
    "print(filtered_data.head())\n"
   ]
  },
  {
   "cell_type": "code",
   "execution_count": 3,
   "id": "a65b5612",
   "metadata": {},
   "outputs": [
    {
     "name": "stdout",
     "output_type": "stream",
     "text": [
      "Total_Revenue  sum     3.336893e+07\n",
      "               mean    1.516770e+06\n",
      "               std     1.548707e+06\n",
      "Total_Profit   sum     1.108294e+07\n",
      "               mean    5.037699e+05\n",
      "               max     1.541705e+06\n",
      "Name: Europe, dtype: float64\n"
     ]
    }
   ],
   "source": [
    "# Grouping by Region and performing operations\n",
    "region_aggregation = multi.groupby(level='Region').agg({\n",
    "    'Total_Revenue': ['sum', 'mean', 'std'],\n",
    "    'Total_Profit': ['sum', 'mean', 'max'],\n",
    "})\n",
    "print(region_aggregation.loc['Europe'])  # Access Europe-specific results\n"
   ]
  },
  {
   "cell_type": "markdown",
   "id": "01b929f3",
   "metadata": {},
   "source": [
    "# Step 3: Aggregation Operations"
   ]
  },
  {
   "cell_type": "code",
   "execution_count": 4,
   "id": "7665bb70",
   "metadata": {},
   "outputs": [
    {
     "name": "stdout",
     "output_type": "stream",
     "text": [
      "\n",
      "Sum Aggregation:\n",
      "                Unit_Cost  Total_Revenue  Total_Profit\n",
      "Country                                               \n",
      "Albania             35.84      247956.32     166635.36\n",
      "Angola             502.54     2798046.49     693911.51\n",
      "Australia          673.86     2489933.49     576605.12\n",
      "Austria            263.33     1244708.40     495007.89\n",
      "Azerbaijan         788.29     4478800.21    1512926.83\n",
      "...                   ...            ...           ...\n",
      "The Gambia        1143.76     5449517.95    1385883.27\n",
      "Turkmenistan      1027.50     5822036.20    1267258.40\n",
      "Tuvalu             159.42     2533654.00     951410.50\n",
      "United Kingdom     502.54      188452.14      46735.86\n",
      "Zambia              97.44      623289.30     225246.90\n",
      "\n",
      "[76 rows x 3 columns]\n"
     ]
    }
   ],
   "source": [
    "# Sum operation using groupby\n",
    "sum_aggregation = multi.groupby('Country')[['Unit_Cost', 'Total_Revenue', 'Total_Profit']].sum()\n",
    "\n",
    "print(\"\\nSum Aggregation:\")\n",
    "print(sum_aggregation)"
   ]
  },
  {
   "cell_type": "code",
   "execution_count": 5,
   "id": "e8c10f4d",
   "metadata": {},
   "outputs": [
    {
     "name": "stdout",
     "output_type": "stream",
     "text": [
      "\n",
      "Mean Aggregation:\n",
      "                Unit_Cost  Total_Revenue   Total_Profit\n",
      "Country                                                \n",
      "Albania            35.840   2.479563e+05  166635.360000\n",
      "Angola            502.540   2.798046e+06  693911.510000\n",
      "Australia         224.620   8.299778e+05  192201.706667\n",
      "Austria           263.330   1.244708e+06  495007.890000\n",
      "Azerbaijan        394.145   2.239400e+06  756463.415000\n",
      "...                   ...            ...            ...\n",
      "The Gambia        285.940   1.362379e+06  346470.817500\n",
      "Turkmenistan      513.750   2.911018e+06  633629.200000\n",
      "Tuvalu            159.420   2.533654e+06  951410.500000\n",
      "United Kingdom    502.540   1.884521e+05   46735.860000\n",
      "Zambia             97.440   6.232893e+05  225246.900000\n",
      "\n",
      "[76 rows x 3 columns]\n"
     ]
    }
   ],
   "source": [
    "# Mean operation\n",
    "mean_aggregation = multi.groupby('Country')[['Unit_Cost', 'Total_Revenue', 'Total_Profit']].mean()\n",
    "\n",
    "print(\"\\nMean Aggregation:\")\n",
    "print(mean_aggregation)"
   ]
  },
  {
   "cell_type": "code",
   "execution_count": 6,
   "id": "fbc36db0",
   "metadata": {},
   "outputs": [
    {
     "name": "stdout",
     "output_type": "stream",
     "text": [
      "\n",
      "Max Aggregation:\n",
      "                Unit_Cost  Total_Revenue  Total_Profit\n",
      "Country                                               \n",
      "Albania             35.84      247956.32     166635.36\n",
      "Angola             502.54     2798046.49     693911.51\n",
      "Australia          524.96     1904138.04     369155.00\n",
      "Austria            263.33     1244708.40     495007.89\n",
      "Azerbaijan         524.96     3162704.80    1257775.58\n",
      "...                   ...            ...           ...\n",
      "The Gambia         502.54     2011149.63     532885.74\n",
      "Turkmenistan       524.96     3262562.10     634745.90\n",
      "Tuvalu             159.42     2533654.00     951410.50\n",
      "United Kingdom     502.54      188452.14      46735.86\n",
      "Zambia              97.44      623289.30     225246.90\n",
      "\n",
      "[76 rows x 3 columns]\n"
     ]
    }
   ],
   "source": [
    "# Max operation\n",
    "max_aggregation =multi.groupby('Country')[['Unit_Cost', 'Total_Revenue', 'Total_Profit']].max()\n",
    "\n",
    "print(\"\\nMax Aggregation:\")\n",
    "print(max_aggregation)\n"
   ]
  },
  {
   "cell_type": "code",
   "execution_count": 7,
   "id": "1b08b790",
   "metadata": {},
   "outputs": [
    {
     "name": "stdout",
     "output_type": "stream",
     "text": [
      "\n",
      "Standard Deviation Aggregation:\n",
      "                 Unit_Cost  Total_Revenue   Total_Profit\n",
      "Country                                                 \n",
      "Albania                NaN            NaN            NaN\n",
      "Angola                 NaN            NaN            NaN\n",
      "Australia       263.577242   9.426850e+05  159247.667326\n",
      "Austria                NaN            NaN            NaN\n",
      "Azerbaijan      185.000347   1.305750e+06  708962.462726\n",
      "...                    ...            ...            ...\n",
      "The Gambia      180.395863   6.664118e+05  150109.610323\n",
      "Turkmenistan     15.853334   4.971583e+05    1579.252285\n",
      "Tuvalu                 NaN            NaN            NaN\n",
      "United Kingdom         NaN            NaN            NaN\n",
      "Zambia                 NaN            NaN            NaN\n",
      "\n",
      "[76 rows x 3 columns]\n"
     ]
    }
   ],
   "source": [
    "# Standard Deviation operation\n",
    "std_aggregation = multi.groupby('Country')[['Unit_Cost', 'Total_Revenue', 'Total_Profit']].std()\n",
    "print(\"\\nStandard Deviation Aggregation:\")\n",
    "print(std_aggregation)"
   ]
  },
  {
   "cell_type": "code",
   "execution_count": 8,
   "id": "998098aa",
   "metadata": {},
   "outputs": [
    {
     "name": "stdout",
     "output_type": "stream",
     "text": [
      "\n",
      "Min Aggregation:\n",
      "                Unit_Cost  Total_Revenue  Total_Profit\n",
      "Country                                               \n",
      "Albania             35.84      247956.32     166635.36\n",
      "Angola             502.54     2798046.49     693911.51\n",
      "Australia           31.79      140287.40      60418.38\n",
      "Austria            263.33     1244708.40     495007.89\n",
      "Azerbaijan         263.33     1316095.41     255151.25\n",
      "...                   ...            ...           ...\n",
      "The Gambia         117.11      435466.90     187545.03\n",
      "Turkmenistan       502.54     2559474.10     632512.50\n",
      "Tuvalu             159.42     2533654.00     951410.50\n",
      "United Kingdom     502.54      188452.14      46735.86\n",
      "Zambia              97.44      623289.30     225246.90\n",
      "\n",
      "[76 rows x 3 columns]\n"
     ]
    }
   ],
   "source": [
    "# Min operation\n",
    "min_aggregation = multi.groupby('Country')[['Unit_Cost', 'Total_Revenue', 'Total_Profit']].min()\n",
    "\n",
    "print(\"\\nMin Aggregation:\")\n",
    "print(min_aggregation)"
   ]
  },
  {
   "cell_type": "code",
   "execution_count": 9,
   "id": "b8e26071",
   "metadata": {},
   "outputs": [
    {
     "name": "stdout",
     "output_type": "stream",
     "text": [
      "\n",
      "Median Aggregation:\n",
      "                Unit_Cost  Total_Revenue  Total_Profit\n",
      "Country                                               \n",
      "Albania            35.840     247956.320    166635.360\n",
      "Angola            502.540    2798046.490    693911.510\n",
      "Australia         117.110     445508.050    147031.740\n",
      "Austria           263.330    1244708.400    495007.890\n",
      "Azerbaijan        394.145    2239400.105    756463.415\n",
      "...                   ...            ...           ...\n",
      "The Gambia        262.055    1501450.710    332726.250\n",
      "Turkmenistan      513.750    2911018.100    633629.200\n",
      "Tuvalu            159.420    2533654.000    951410.500\n",
      "United Kingdom    502.540     188452.140     46735.860\n",
      "Zambia             97.440     623289.300    225246.900\n",
      "\n",
      "[76 rows x 3 columns]\n"
     ]
    }
   ],
   "source": [
    "median_aggregation = multi.groupby('Country')[['Unit_Cost', 'Total_Revenue', 'Total_Profit']].median()\n",
    "\n",
    "print(\"\\nMedian Aggregation:\")\n",
    "print(median_aggregation)"
   ]
  }
 ],
 "metadata": {
  "kernelspec": {
   "display_name": "Python 3 (ipykernel)",
   "language": "python",
   "name": "python3"
  },
  "language_info": {
   "codemirror_mode": {
    "name": "ipython",
    "version": 3
   },
   "file_extension": ".py",
   "mimetype": "text/x-python",
   "name": "python",
   "nbconvert_exporter": "python",
   "pygments_lexer": "ipython3",
   "version": "3.11.5"
  }
 },
 "nbformat": 4,
 "nbformat_minor": 5
}
