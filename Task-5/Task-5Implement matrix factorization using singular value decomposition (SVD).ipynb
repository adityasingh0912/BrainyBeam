{
 "cells": [
  {
   "cell_type": "code",
   "execution_count": 3,
   "id": "fc6a0bb4",
   "metadata": {},
   "outputs": [
    {
     "name": "stdout",
     "output_type": "stream",
     "text": [
      "<class 'pandas.core.frame.DataFrame'>\n",
      "RangeIndex: 100 entries, 0 to 99\n",
      "Data columns (total 11 columns):\n",
      " #   Column          Non-Null Count  Dtype  \n",
      "---  ------          --------------  -----  \n",
      " 0   Region          100 non-null    object \n",
      " 1   Country         100 non-null    object \n",
      " 2   Item_Type       100 non-null    object \n",
      " 3   Sales_Channel   100 non-null    object \n",
      " 4   Order_Priority  100 non-null    object \n",
      " 5   Ship_Date       100 non-null    object \n",
      " 6   Unit_Cost       100 non-null    float64\n",
      " 7   Total_Revenue   100 non-null    float64\n",
      " 8   Total_Profit    100 non-null    float64\n",
      " 9   Unnamed: 9      0 non-null      float64\n",
      " 10  Unnamed: 10     0 non-null      float64\n",
      "dtypes: float64(5), object(6)\n",
      "memory usage: 8.7+ KB\n"
     ]
    },
    {
     "data": {
      "text/plain": [
       "(                              Region                Country        Item_Type  \\\n",
       " 0              Australia and Oceania                 Tuvalu        Baby Food   \n",
       " 1  Central America and the Caribbean                Grenada           Cereal   \n",
       " 2                             Europe                 Russia  Office Supplies   \n",
       " 3                 Sub_Saharan Africa  Sao Tome and Principe           Fruits   \n",
       " 4                 Sub_Saharan Africa                 Rwanda  Office Supplies   \n",
       " \n",
       "   Sales_Channel Order_Priority   Ship_Date  Unit_Cost  Total_Revenue  \\\n",
       " 0       Offline              H  27/06/2010     159.42     2533654.00   \n",
       " 1        Online              C  15/09/2012     117.11      576782.80   \n",
       " 2       Offline              L  05/08/2014     524.96     1158502.59   \n",
       " 3        Online              C  07/05/2014       6.92       75591.66   \n",
       " 4       Offline              L  02/06/2013     524.96     3296425.02   \n",
       " \n",
       "    Total_Profit  Unnamed: 9  Unnamed: 10  \n",
       " 0     951410.50         NaN          NaN  \n",
       " 1     248406.36         NaN          NaN  \n",
       " 2     224598.75         NaN          NaN  \n",
       " 3      19525.82         NaN          NaN  \n",
       " 4     639077.50         NaN          NaN  ,\n",
       " None)"
      ]
     },
     "execution_count": 3,
     "metadata": {},
     "output_type": "execute_result"
    }
   ],
   "source": [
    "import pandas as pd\n",
    "\n",
    "# Load the CSV file to examine its structure\n",
    "\n",
    "data = pd.read_csv('100_Sales.csv')\n",
    "\n",
    "# Display the first few rows of the dataset\n",
    "data.head(), data.info()\n"
   ]
  },
  {
   "cell_type": "code",
   "execution_count": 7,
   "id": "f86bd977",
   "metadata": {
    "scrolled": true
   },
   "outputs": [
    {
     "data": {
      "text/plain": [
       "(((100, 3), (3,), (3, 3)),\n",
       " array([[1.59420000e+02, 2.53365400e+06, 9.51410500e+05],\n",
       "        [1.17110000e+02, 5.76782800e+05, 2.48406360e+05],\n",
       "        [5.24960000e+02, 1.15850259e+06, 2.24598750e+05],\n",
       "        [6.92000000e+00, 7.55916600e+04, 1.95258200e+04],\n",
       "        [5.24960000e+02, 3.29642502e+06, 6.39077500e+05]]))"
      ]
     },
     "execution_count": 7,
     "metadata": {},
     "output_type": "execute_result"
    }
   ],
   "source": [
    "import numpy as np\n",
    "\n",
    "# Select relevant numeric columns and create a matrix for SVD\n",
    "numeric_columns = [\"Unit_Cost\", \"Total_Revenue\", \"Total_Profit\"]\n",
    "matrix = data[numeric_columns].to_numpy()\n",
    "\n",
    "# Apply SVD using NumPy\n",
    "U, Sigma, VT = np.linalg.svd(matrix, full_matrices=False)\n",
    "\n",
    "# Reconstruct the matrix from SVD components to validate\n",
    "reconstructed_matrix = np.dot(U, np.dot(np.diag(Sigma), VT))\n",
    "\n",
    "# Check the shape of components and a preview of the reconstructed matrix\n",
    "(U.shape, Sigma.shape, VT.shape), reconstructed_matrix[:5]\n"
   ]
  },
  {
   "cell_type": "markdown",
   "id": "f4a2f026",
   "metadata": {},
   "source": [
    "SVD is a powerful technique for decomposing a matrix into three other matrices: 𝑈,Σ, and $𝑉^𝑇$\n",
    " . This is useful in many applications such as dimensionality reduction, collaborative filtering, and data compression."
   ]
  },
  {
   "cell_type": "markdown",
   "id": "ae84f9dd",
   "metadata": {},
   "source": [
    "Perform SVD: Use NumPy’s $np.linalg.svd()$ to decompose the matrix into three components: \n",
    "𝑈, \n",
    "Σ, and \n",
    "$𝑉\n",
    "^\n",
    "𝑇 $.\n",
    "\n",
    "Reconstruct the matrix: Multiply the decomposed matrices to validate the factorization."
   ]
  },
  {
   "cell_type": "markdown",
   "id": "e80ccbd2",
   "metadata": {},
   "source": [
    "U: (100, 3) — Orthogonal matrix corresponding to rows.\n",
    "\n",
    "Σ: (3,) — Singular values (diagonal matrix in compact form).\n",
    "\n",
    "$V^T$ : (3, 3) — Orthogonal matrix corresponding to columns."
   ]
  }
 ],
 "metadata": {
  "kernelspec": {
   "display_name": "Python 3 (ipykernel)",
   "language": "python",
   "name": "python3"
  },
  "language_info": {
   "codemirror_mode": {
    "name": "ipython",
    "version": 3
   },
   "file_extension": ".py",
   "mimetype": "text/x-python",
   "name": "python",
   "nbconvert_exporter": "python",
   "pygments_lexer": "ipython3",
   "version": "3.11.5"
  }
 },
 "nbformat": 4,
 "nbformat_minor": 5
}
