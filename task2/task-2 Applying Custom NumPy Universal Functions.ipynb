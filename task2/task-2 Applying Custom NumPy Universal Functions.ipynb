{
 "cells": [
  {
   "cell_type": "code",
   "execution_count": 7,
   "id": "d1338cbc",
   "metadata": {},
   "outputs": [],
   "source": [
    "import numpy as np\n",
    "import pandas as pd\n",
    "\n",
    "# Load the dataset\n",
    "data = pd.read_csv(\"100_Sales.csv\")\n",
    "\n"
   ]
  },
  {
   "cell_type": "code",
   "execution_count": 18,
   "id": "62c66421",
   "metadata": {},
   "outputs": [],
   "source": [
    "# Revenue Efficiency with Advanced Scaling by Region\n",
    "def revenue_efficiency_scaled(total_profit, total_revenue, region):\n",
    "    if total_revenue == 0:\n",
    "        return np.nan  # Handle division by zero\n",
    "    region_scaling = {'Europe': 1.2, 'Asia': 1.0, 'Africa': 0.9, 'America': 1.1, 'Oceania': 0.8}\n",
    "    scale = region_scaling.get(region, 1.0)\n",
    "    \n",
    "    # Base efficiency calculation\n",
    "    efficiency = (total_profit / total_revenue) * 100 * scale\n",
    "\n",
    "    # Apply logarithmic transformation for non-linear scaling\n",
    "    return np.log1p(efficiency)  # log1p ensures no errors for small efficiency values\n",
    "\n",
    "# Vectorize the function for application across the dataset\n",
    "revenue_efficiency_scaled_ufunc = np.vectorize(revenue_efficiency_scaled)\n",
    "\n",
    "# Apply the function to the dataset\n",
    "data['Revenue_Efficiency_Scaled_Advanced'] = revenue_efficiency_scaled_ufunc(\n",
    "    data['Total_Profit'], \n",
    "    data['Total_Revenue'], \n",
    "    data['Region']\n",
    ")\n",
    "\n"
   ]
  },
  {
   "cell_type": "markdown",
   "id": "155ef973",
   "metadata": {},
   "source": [
    "Scaling Logic:\n",
    "\n",
    "Europe has higher weights (1.2) due to a strong market presence.\n",
    "\n",
    "Oceania has a lower weight (0.8) due to fewer sales.\n",
    "\n",
    "Default weight is 1.0 for unknown regions."
   ]
  },
  {
   "cell_type": "markdown",
   "id": "200f1262",
   "metadata": {},
   "source": [
    "The $[np.log1p()]$ function computes \n",
    "$ln\n",
    "⁡\n",
    "(\n",
    "1\n",
    "+\n",
    "𝑥\n",
    ")\n",
    "$, which is more stable for small \n",
    "𝑥 values compared to np.log().\n",
    "\n",
    "This is particularly useful for datasets where efficiency metrics might be small or vary significantly.\n",
    "\n",
    "By using log1p, you showcase an understanding of how to handle non-linear relationships and normalize data ranges.\n"
   ]
  },
  {
   "cell_type": "code",
   "execution_count": 21,
   "id": "32b7cdf9",
   "metadata": {},
   "outputs": [],
   "source": [
    "# Enhanced Profitability Index with Advanced Weight Logic\n",
    "def profitability_index_extended(total_profit, unit_cost, priority, item_type):\n",
    "    # Weights based on priority\n",
    "    priority_weights = {'L': 1.0, 'M': 1.2, 'H': 1.5, 'C': 1.8}\n",
    "    priority_weight = priority_weights.get(priority, 1.0)  # Default weight = 1.0 if priority not found\n",
    "    \n",
    "    # Dynamic weights for item type\n",
    "    item_type_weights = {\n",
    "        'Clothes': 0.9, 'Cosmetics': 1.3, 'Baby Food': 1.5,\n",
    "        'Vegetables': 1.0, 'Personal Care': 1.1, 'Beverages': 1.2,\n",
    "        'Household': 1.4, 'Office Supplies': 0.8\n",
    "    }\n",
    "    item_weight = item_type_weights.get(item_type, 1.0)  # Default weight = 1.0 if item_type not found\n",
    "    \n",
    "    # Incorporate additional scaling for string length of item type\n",
    "    dynamic_item_weight = item_weight * (1 + len(item_type) / 10)\n",
    "    \n",
    "    # Basic profitability index calculation\n",
    "    profitability = (total_profit / unit_cost) * priority_weight * dynamic_item_weight\n",
    "\n",
    "    # Non-linear transformation to normalize the scale\n",
    "    return np.sqrt(profitability)\n",
    "\n",
    "# Vectorize the enhanced function\n",
    "profitability_index_extended_ufunc = np.vectorize(profitability_index_extended)\n",
    "\n",
    "# Apply the function to the dataset\n",
    "data['Profitability_Index_Extended_Advanced'] = profitability_index_extended_ufunc(\n",
    "    data['Total_Profit'], \n",
    "    data['Unit_Cost'], \n",
    "    data['Order_Priority'], \n",
    "    data['Item_Type']\n",
    ")"
   ]
  },
  {
   "cell_type": "markdown",
   "id": "648e7763",
   "metadata": {},
   "source": [
    "Weighs profitability based on Order Priority and Item_Type, showcasing a multi-faceted approach."
   ]
  },
  {
   "cell_type": "markdown",
   "id": "7a10b7f5",
   "metadata": {},
   "source": [
    "Critical orders (C) have the highest weight (1.8).\n",
    "\n",
    "Premium item types (e.g., Baby Food) also have higher weights.\n",
    "\n",
    "This highlights how different business aspects interact to determine profitability."
   ]
  },
  {
   "cell_type": "markdown",
   "id": "5efd7300",
   "metadata": {},
   "source": [
    "Using np.sqrt() to normalize and reduce the impact of extreme values."
   ]
  },
  {
   "cell_type": "code",
   "execution_count": 10,
   "id": "a860fe18",
   "metadata": {},
   "outputs": [],
   "source": [
    "# Cost Efficiency Metric with NumPy Integration\n",
    "def cost_efficiency(unit_cost, total_profit, priority):\n",
    "    priority_weights = np.array([1.0, 1.3, 1.7, 2.0])  # Priority weight values\n",
    "    priorities = np.array(['L', 'M', 'H', 'C'])        # Priority categories\n",
    "    # Find the matching weight or default to 1.0\n",
    "    weight = np.where(priorities == priority, priority_weights, 1.0).max()\n",
    "    # Compute cost efficiency\n",
    "    return (total_profit / unit_cost) * weight\n",
    "\n",
    "# Vectorize for application on arrays\n",
    "cost_efficiency_ufunc = np.vectorize(cost_efficiency)\n"
   ]
  },
  {
   "cell_type": "markdown",
   "id": "82a96711",
   "metadata": {},
   "source": [
    " Measures how efficiently costs are converted into profit, factoring in Order Priority"
   ]
  },
  {
   "cell_type": "markdown",
   "id": "6263d558",
   "metadata": {},
   "source": [
    "Critical orders (C) show the highest priority weight for cost efficiency.\n",
    "\n",
    "Designed to evaluate how cost-sensitive operations influence profitability."
   ]
  },
  {
   "cell_type": "markdown",
   "id": "e92088c6",
   "metadata": {},
   "source": [
    "The np.where function determines the appropriate weight based on the priority."
   ]
  },
  {
   "cell_type": "code",
   "execution_count": 11,
   "id": "ec434853",
   "metadata": {},
   "outputs": [],
   "source": [
    "# Apply Ufuncs to the DataFrame\n",
    "data['Revenue_Efficiency_Scaled'] = revenue_efficiency_scaled_ufunc(\n",
    "    data['Total_Profit'], data['Total_Revenue'], data['Region']\n",
    ")\n",
    "\n",
    "data['Profitability_Index_Extended'] = profitability_index_extended_ufunc(\n",
    "    data['Total_Profit'], data['Unit_Cost'], data['Order_Priority'], data['Item_Type']\n",
    ")\n",
    "\n",
    "data['Cost_Efficiency'] = cost_efficiency_ufunc(\n",
    "    data['Unit_Cost'], data['Total_Profit'], data['Order_Priority']\n",
    ")\n"
   ]
  },
  {
   "cell_type": "code",
   "execution_count": 25,
   "id": "a5f0c1e3",
   "metadata": {},
   "outputs": [
    {
     "name": "stdout",
     "output_type": "stream",
     "text": [
      "\n",
      "Enhanced Metrics Table (Top 11 Rows):\n",
      "                           Region  Profit ($)  Revenue ($)  Revenue Efficiency (%)  Profitability Index  Cost Efficiency\n",
      "            Australia and Oceania   951410.50   2533654.00                   37.55             13427.89         10145.51\n",
      "Central America and the Caribbean   248406.36    576782.80                   43.07              3818.05          4242.27\n",
      "                           Europe   224598.75   1158502.59                   23.26               342.27           427.84\n",
      "               Sub_Saharan Africa    19525.82     75591.66                   25.83              5078.97          5643.30\n",
      "               Sub_Saharan Africa   639077.50   3296425.02                   19.39               973.91          1217.38\n",
      "            Australia and Oceania   285087.64    759202.72                   37.55              4828.36          3576.56\n",
      "               Sub_Saharan Africa   693911.51   2798046.49                   24.80              2319.76          1795.05\n",
      "               Sub_Saharan Africa   510216.66   1245112.92                   40.98              8416.64          9538.86\n",
      "               Sub_Saharan Africa   152114.20    496101.10                   30.66              3543.16          3489.47\n",
      "               Sub_Saharan Africa   584073.87   1356180.10                   43.07              7481.09          8478.57\n",
      "                             Asia     7828.12     19103.44                   40.98               129.13           146.35\n"
     ]
    }
   ],
   "source": [
    "# Formatting and Display of Results\n",
    "formatted_data = data[['Region', 'Total_Profit', 'Total_Revenue', 'Revenue_Efficiency_Scaled',\n",
    "                       'Profitability_Index_Extended', 'Cost_Efficiency']].copy()\n",
    "\n",
    "# Round numerical values to 2 decimal places\n",
    "formatted_data['Revenue_Efficiency_Scaled'] = formatted_data['Revenue_Efficiency_Scaled'].round(2)\n",
    "formatted_data['Profitability_Index_Extended'] = formatted_data['Profitability_Index_Extended'].round(2)\n",
    "formatted_data['Cost_Efficiency'] = formatted_data['Cost_Efficiency'].round(2)\n",
    "\n",
    "# Renaming columns for better readability\n",
    "formatted_data.rename(columns={\n",
    "    'Total_Profit': 'Profit ($)',\n",
    "    'Total_Revenue': 'Revenue ($)',\n",
    "    'Revenue_Efficiency_Scaled': 'Revenue Efficiency (%)',\n",
    "    'Profitability_Index_Extended': 'Profitability Index',\n",
    "    'Cost_Efficiency': 'Cost Efficiency'\n",
    "}, inplace=True)\n",
    "\n",
    "# Display the formatted table (top 11 rows for clarity)\n",
    "print(\"\\nEnhanced Metrics Table (Top 11 Rows):\")\n",
    "print(formatted_data.head(11).to_string(index=False))\n"
   ]
  },
  {
   "cell_type": "markdown",
   "id": "a2843347",
   "metadata": {},
   "source": [
    "used multiple numpy universal functions like -\n",
    "np.nan,\n",
    "np.log1p,\n",
    "np.vectorize,\n",
    "np.sqrt,\n",
    "np.where etc\n"
   ]
  }
 ],
 "metadata": {
  "kernelspec": {
   "display_name": "Python 3 (ipykernel)",
   "language": "python",
   "name": "python3"
  },
  "language_info": {
   "codemirror_mode": {
    "name": "ipython",
    "version": 3
   },
   "file_extension": ".py",
   "mimetype": "text/x-python",
   "name": "python",
   "nbconvert_exporter": "python",
   "pygments_lexer": "ipython3",
   "version": "3.11.5"
  }
 },
 "nbformat": 4,
 "nbformat_minor": 5
}
